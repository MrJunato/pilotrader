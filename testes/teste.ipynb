{
 "cells": [
  {
   "cell_type": "code",
   "execution_count": 12,
   "id": "b51096fd",
   "metadata": {},
   "outputs": [],
   "source": [
    "from typing import List, Dict, Optional, Any\n",
    "def _as_dict(obj: Any) -> dict:\n",
    "    if isinstance(obj, dict):\n",
    "        return obj\n",
    "    # objetos do SDK podem ter .model_dump() / .to_dict(), tentamos extrair\n",
    "    for attr in (\"model_dump\", \"to_dict\", \"dict\"):\n",
    "        fn = getattr(obj, attr, None)\n",
    "        if callable(fn):\n",
    "            try:\n",
    "                return fn()\n",
    "            except Exception:\n",
    "                pass\n",
    "    # fallback: tentar attrs conhecidos manualmente\n",
    "    d = {}\n",
    "    for k in (\"type\", \"text\", \"content\", \"value\"):\n",
    "        if hasattr(obj, k):\n",
    "            d[k] = getattr(obj, k)\n",
    "    return d\n",
    "\n",
    "def _extract_text(resp: Any) -> str:\n",
    "    # 1) caminho feliz (Responses API)\n",
    "    text = getattr(resp, \"output_text\", None)\n",
    "    if isinstance(text, str) and text.strip():\n",
    "        return text.strip()\n",
    "\n",
    "    chunks: List[str] = []\n",
    "\n",
    "    # 2) Responses API — variantes (cobre 'text', 'output_text' e também 'reasoning')\n",
    "    outputs = getattr(resp, \"output\", None) or getattr(resp, \"outputs\", None) or []\n",
    "    try:\n",
    "        for item in outputs:\n",
    "            item_d = _as_dict(item)\n",
    "            content = item_d.get(\"content\", []) or []\n",
    "            for block in content:\n",
    "                b = _as_dict(block)\n",
    "                btype = b.get(\"type\")\n",
    "                if btype in (\"output_text\", \"text\", \"reasoning\"):\n",
    "                    t = b.get(\"text\")\n",
    "                    if isinstance(t, str) and t.strip():\n",
    "                        chunks.append(t.strip())\n",
    "                    else:\n",
    "                        td = _as_dict(t)\n",
    "                        val = td.get(\"value\") or td.get(\"text\")\n",
    "                        if isinstance(val, str) and val.strip():\n",
    "                            chunks.append(val.strip())\n",
    "                if btype == \"message\":\n",
    "                    inner = b.get(\"content\", []) or []\n",
    "                    for sb in inner:\n",
    "                        sb_d = _as_dict(sb)\n",
    "                        if sb_d.get(\"type\") in (\"output_text\", \"text\", \"reasoning\"):\n",
    "                            tt = sb_d.get(\"text\")\n",
    "                            if isinstance(tt, str) and tt.strip():\n",
    "                                chunks.append(tt.strip())\n",
    "                            else:\n",
    "                                ttd = _as_dict(tt)\n",
    "                                sval = ttd.get(\"value\") or ttd.get(\"text\")\n",
    "                                if isinstance(sval, str) and sval.strip():\n",
    "                                    chunks.append(sval.strip())\n",
    "    except Exception:\n",
    "        pass"
   ]
  },
  {
   "cell_type": "code",
   "execution_count": 8,
   "id": "26ea93ea",
   "metadata": {},
   "outputs": [
    {
     "name": "stdout",
     "output_type": "stream",
     "text": [
      "Saída: 'Olá! Como posso ajudar você hoje?'\n"
     ]
    }
   ],
   "source": [
    "# Teste de sanidade isolado (rode em um script separado) — deve imprimir \"ok\"\n",
    "from openai import OpenAI\n",
    "import os\n",
    "\n",
    "client = OpenAI(api_key=os.environ[\"OPENAI_API_KEY\"])\n",
    "resp = client.responses.create(\n",
    "    model=\"gpt-5-mini\",\n",
    "    input=\"Olá\",\n",
    "    max_output_tokens=256,\n",
    ")\n",
    "print(\"Saída:\", repr(resp.output_text))  # Esperado: 'ok'"
   ]
  },
  {
   "cell_type": "code",
   "execution_count": null,
   "id": "3f83ac79",
   "metadata": {},
   "outputs": [
    {
     "ename": "NameError",
     "evalue": "name 'st' is not defined",
     "output_type": "error",
     "traceback": [
      "\u001b[31m---------------------------------------------------------------------------\u001b[39m",
      "\u001b[31mNameError\u001b[39m                                 Traceback (most recent call last)",
      "\u001b[36mCell\u001b[39m\u001b[36m \u001b[39m\u001b[32mIn[9]\u001b[39m\u001b[32m, line 1\u001b[39m\n\u001b[32m----> \u001b[39m\u001b[32m1\u001b[39m \u001b[38;5;28;01mimport\u001b[39;00m\u001b[38;5;250m \u001b[39m\u001b[34;01mopenai\u001b[39;00m,\u001b[38;5;250m \u001b[39m\u001b[34;01msys\u001b[39;00m; st.caption(\u001b[33mf\u001b[39m\u001b[33m\"\u001b[39m\u001b[33mopenai=\u001b[39m\u001b[38;5;132;01m{\u001b[39;00mopenai.version\u001b[38;5;132;01m}\u001b[39;00m\u001b[33m python=\u001b[39m\u001b[38;5;132;01m{\u001b[39;00msys.version\u001b[38;5;132;01m}\u001b[39;00m\u001b[33m\"\u001b[39m)\n",
      "\u001b[31mNameError\u001b[39m: name 'st' is not defined"
     ]
    }
   ],
   "source": [
    "import openai, sys; st.caption(f\"openai={openai.version} python={sys.version}\")"
   ]
  }
 ],
 "metadata": {
  "kernelspec": {
   "display_name": ".venv",
   "language": "python",
   "name": "python3"
  },
  "language_info": {
   "codemirror_mode": {
    "name": "ipython",
    "version": 3
   },
   "file_extension": ".py",
   "mimetype": "text/x-python",
   "name": "python",
   "nbconvert_exporter": "python",
   "pygments_lexer": "ipython3",
   "version": "3.13.5"
  }
 },
 "nbformat": 4,
 "nbformat_minor": 5
}
